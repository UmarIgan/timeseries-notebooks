{
 "cells": [
  {
   "cell_type": "code",
   "execution_count": 1,
   "metadata": {
    "colab": {
     "base_uri": "https://localhost:8080/"
    },
    "id": "pxPf4jy3Omj_",
    "outputId": "36a49f72-8115-44da-fd1c-e2936b3513bf"
   },
   "outputs": [
    {
     "name": "stdout",
     "output_type": "stream",
     "text": [
      "Collecting anticipy\n",
      "  Downloading anticipy-0.2.1-py3-none-any.whl (74 kB)\n",
      "\u001b[?25l\r",
      "\u001b[K     |████▍                           | 10 kB 20.1 MB/s eta 0:00:01\r",
      "\u001b[K     |████████▉                       | 20 kB 3.5 MB/s eta 0:00:01\r",
      "\u001b[K     |█████████████▏                  | 30 kB 4.9 MB/s eta 0:00:01\r",
      "\u001b[K     |█████████████████▋              | 40 kB 6.2 MB/s eta 0:00:01\r",
      "\u001b[K     |██████████████████████          | 51 kB 7.3 MB/s eta 0:00:01\r",
      "\u001b[K     |██████████████████████████▍     | 61 kB 8.4 MB/s eta 0:00:01\r",
      "\u001b[K     |██████████████████████████████▊ | 71 kB 9.5 MB/s eta 0:00:01\r",
      "\u001b[K     |████████████████████████████████| 74 kB 1.6 MB/s \n",
      "\u001b[?25hRequirement already satisfied: pandas>=0.23.0 in /usr/local/lib/python3.7/dist-packages (from anticipy) (1.1.5)\n",
      "Requirement already satisfied: plotly>=3.5.0 in /usr/local/lib/python3.7/dist-packages (from anticipy) (4.4.1)\n",
      "Requirement already satisfied: numpy>=1.15.1 in /usr/local/lib/python3.7/dist-packages (from anticipy) (1.19.5)\n",
      "Requirement already satisfied: scipy>=1.0.0 in /usr/local/lib/python3.7/dist-packages (from anticipy) (1.4.1)\n",
      "Requirement already satisfied: python-dateutil>=2.7.3 in /usr/local/lib/python3.7/dist-packages (from pandas>=0.23.0->anticipy) (2.8.2)\n",
      "Requirement already satisfied: pytz>=2017.2 in /usr/local/lib/python3.7/dist-packages (from pandas>=0.23.0->anticipy) (2018.9)\n",
      "Requirement already satisfied: six in /usr/local/lib/python3.7/dist-packages (from plotly>=3.5.0->anticipy) (1.15.0)\n",
      "Requirement already satisfied: retrying>=1.3.3 in /usr/local/lib/python3.7/dist-packages (from plotly>=3.5.0->anticipy) (1.3.3)\n",
      "Installing collected packages: anticipy\n",
      "Successfully installed anticipy-0.2.1\n"
     ]
    }
   ],
   "source": [
    "!pip install -U anticipy\n",
    "import logging, sys\n",
    "logging.disable(sys.maxsize)"
   ]
  },
  {
   "cell_type": "code",
   "execution_count": 2,
   "metadata": {
    "colab": {
     "base_uri": "https://localhost:8080/",
     "height": 1000
    },
    "id": "-KgmO47lOr3S",
    "outputId": "b03b869e-d392-4d07-dc27-5e911b6a8f89"
   },
   "outputs": [
    {
     "name": "stdout",
     "output_type": "stream",
     "text": [
      "Collecting microprediction\n",
      "  Downloading microprediction-0.18.8-py3-none-any.whl (73 kB)\n",
      "\u001b[?25l\r",
      "\u001b[K     |████▍                           | 10 kB 20.4 MB/s eta 0:00:01\r",
      "\u001b[K     |████████▉                       | 20 kB 25.5 MB/s eta 0:00:01\r",
      "\u001b[K     |█████████████▎                  | 30 kB 31.6 MB/s eta 0:00:01\r",
      "\u001b[K     |█████████████████▊              | 40 kB 31.4 MB/s eta 0:00:01\r",
      "\u001b[K     |██████████████████████▏         | 51 kB 20.5 MB/s eta 0:00:01\r",
      "\u001b[K     |██████████████████████████▋     | 61 kB 22.8 MB/s eta 0:00:01\r",
      "\u001b[K     |███████████████████████████████ | 71 kB 19.9 MB/s eta 0:00:01\r",
      "\u001b[K     |████████████████████████████████| 73 kB 2.2 MB/s \n",
      "\u001b[?25hRequirement already satisfied: scikit-learn in /usr/local/lib/python3.7/dist-packages (from microprediction) (1.0.1)\n",
      "Requirement already satisfied: requests in /usr/local/lib/python3.7/dist-packages (from microprediction) (2.23.0)\n",
      "Collecting microconventions>=0.5.0\n",
      "  Downloading microconventions-0.5.4-py3-none-any.whl (16 kB)\n",
      "Collecting pytz>=2021.3\n",
      "  Downloading pytz-2021.3-py2.py3-none-any.whl (503 kB)\n",
      "\u001b[K     |████████████████████████████████| 503 kB 46.9 MB/s \n",
      "\u001b[?25hCollecting contexttimer\n",
      "  Downloading contexttimer-0.3.3.tar.gz (4.9 kB)\n",
      "Requirement already satisfied: pathlib in /usr/local/lib/python3.7/dist-packages (from microprediction) (1.0.1)\n",
      "Collecting tdigest\n",
      "  Downloading tdigest-0.5.2.2-py3-none-any.whl (9.4 kB)\n",
      "Requirement already satisfied: statsmodels in /usr/local/lib/python3.7/dist-packages (from microprediction) (0.10.2)\n",
      "Collecting copulas\n",
      "  Downloading copulas-0.6.0-py2.py3-none-any.whl (50 kB)\n",
      "\u001b[K     |████████████████████████████████| 50 kB 5.3 MB/s \n",
      "\u001b[?25hRequirement already satisfied: pandas in /usr/local/lib/python3.7/dist-packages (from microprediction) (1.1.5)\n",
      "Collecting apscheduler\n",
      "  Downloading APScheduler-3.8.1-py2.py3-none-any.whl (59 kB)\n",
      "\u001b[K     |████████████████████████████████| 59 kB 5.5 MB/s \n",
      "\u001b[?25hRequirement already satisfied: hyperopt in /usr/local/lib/python3.7/dist-packages (from microprediction) (0.1.2)\n",
      "Collecting pycoingecko\n",
      "  Downloading pycoingecko-2.2.0-py3-none-any.whl (8.3 kB)\n",
      "Collecting getjson\n",
      "  Downloading getjson-1.0.0-py3-none-any.whl (2.6 kB)\n",
      "Collecting genson\n",
      "  Downloading genson-1.2.2.tar.gz (34 kB)\n",
      "Collecting numpy>=1.20.1\n",
      "  Downloading numpy-1.21.5-cp37-cp37m-manylinux_2_12_x86_64.manylinux2010_x86_64.whl (15.7 MB)\n",
      "\u001b[K     |████████████████████████████████| 15.7 MB 46.9 MB/s \n",
      "\u001b[?25hRequirement already satisfied: scipy in /usr/local/lib/python3.7/dist-packages (from microconventions>=0.5.0->microprediction) (1.4.1)\n",
      "Collecting muid>=0.5.3\n",
      "  Downloading muid-0.5.3-py3-none-any.whl (173 kB)\n",
      "\u001b[K     |████████████████████████████████| 173 kB 57.1 MB/s \n",
      "\u001b[?25hCollecting pymorton\n",
      "  Downloading pymorton-1.0.5-py2.py3-none-any.whl (4.4 kB)\n",
      "Collecting schema\n",
      "  Downloading schema-0.7.5-py2.py3-none-any.whl (17 kB)\n",
      "Collecting deepdiff\n",
      "  Downloading deepdiff-5.7.0-py3-none-any.whl (68 kB)\n",
      "\u001b[K     |████████████████████████████████| 68 kB 6.8 MB/s \n",
      "\u001b[?25hCollecting tzlocal!=3.*,>=2.0\n",
      "  Downloading tzlocal-4.1-py3-none-any.whl (19 kB)\n",
      "Requirement already satisfied: setuptools>=0.7 in /usr/local/lib/python3.7/dist-packages (from apscheduler->microprediction) (57.4.0)\n",
      "Requirement already satisfied: six>=1.4.0 in /usr/local/lib/python3.7/dist-packages (from apscheduler->microprediction) (1.15.0)\n",
      "Collecting backports.zoneinfo\n",
      "  Downloading backports.zoneinfo-0.2.1-cp37-cp37m-manylinux1_x86_64.whl (70 kB)\n",
      "\u001b[K     |████████████████████████████████| 70 kB 8.8 MB/s \n",
      "\u001b[?25hCollecting pytz-deprecation-shim\n",
      "  Downloading pytz_deprecation_shim-0.1.0.post0-py2.py3-none-any.whl (15 kB)\n",
      "Collecting scipy\n",
      "  Downloading scipy-1.7.3-cp37-cp37m-manylinux_2_12_x86_64.manylinux2010_x86_64.whl (38.1 MB)\n",
      "\u001b[K     |████████████████████████████████| 38.1 MB 1.3 MB/s \n",
      "\u001b[?25hRequirement already satisfied: matplotlib<4,>=3.2.0 in /usr/local/lib/python3.7/dist-packages (from copulas->microprediction) (3.2.2)\n",
      "Requirement already satisfied: python-dateutil>=2.1 in /usr/local/lib/python3.7/dist-packages (from matplotlib<4,>=3.2.0->copulas->microprediction) (2.8.2)\n",
      "Requirement already satisfied: kiwisolver>=1.0.1 in /usr/local/lib/python3.7/dist-packages (from matplotlib<4,>=3.2.0->copulas->microprediction) (1.3.2)\n",
      "Requirement already satisfied: cycler>=0.10 in /usr/local/lib/python3.7/dist-packages (from matplotlib<4,>=3.2.0->copulas->microprediction) (0.11.0)\n",
      "Requirement already satisfied: pyparsing!=2.0.4,!=2.1.2,!=2.1.6,>=2.0.1 in /usr/local/lib/python3.7/dist-packages (from matplotlib<4,>=3.2.0->copulas->microprediction) (3.0.6)\n",
      "Collecting ordered-set==4.0.2\n",
      "  Downloading ordered-set-4.0.2.tar.gz (10 kB)\n",
      "Collecting backoff\n",
      "  Downloading backoff-1.11.1-py2.py3-none-any.whl (13 kB)\n",
      "Requirement already satisfied: pymongo in /usr/local/lib/python3.7/dist-packages (from hyperopt->microprediction) (3.12.1)\n",
      "Requirement already satisfied: networkx in /usr/local/lib/python3.7/dist-packages (from hyperopt->microprediction) (2.6.3)\n",
      "Requirement already satisfied: tqdm in /usr/local/lib/python3.7/dist-packages (from hyperopt->microprediction) (4.62.3)\n",
      "Requirement already satisfied: future in /usr/local/lib/python3.7/dist-packages (from hyperopt->microprediction) (0.16.0)\n",
      "Collecting tzdata\n",
      "  Downloading tzdata-2021.5-py2.py3-none-any.whl (339 kB)\n",
      "\u001b[K     |████████████████████████████████| 339 kB 49.2 MB/s \n",
      "\u001b[?25hRequirement already satisfied: urllib3!=1.25.0,!=1.25.1,<1.26,>=1.21.1 in /usr/local/lib/python3.7/dist-packages (from requests->microprediction) (1.24.3)\n",
      "Requirement already satisfied: idna<3,>=2.5 in /usr/local/lib/python3.7/dist-packages (from requests->microprediction) (2.10)\n",
      "Requirement already satisfied: certifi>=2017.4.17 in /usr/local/lib/python3.7/dist-packages (from requests->microprediction) (2021.10.8)\n",
      "Requirement already satisfied: chardet<4,>=3.0.2 in /usr/local/lib/python3.7/dist-packages (from requests->microprediction) (3.0.4)\n",
      "Requirement already satisfied: contextlib2>=0.5.5 in /usr/local/lib/python3.7/dist-packages (from schema->microconventions>=0.5.0->microprediction) (0.5.5)\n",
      "Requirement already satisfied: threadpoolctl>=2.0.0 in /usr/local/lib/python3.7/dist-packages (from scikit-learn->microprediction) (3.0.0)\n",
      "Requirement already satisfied: joblib>=0.11 in /usr/local/lib/python3.7/dist-packages (from scikit-learn->microprediction) (1.1.0)\n",
      "Requirement already satisfied: patsy>=0.4.0 in /usr/local/lib/python3.7/dist-packages (from statsmodels->microprediction) (0.5.2)\n",
      "Collecting accumulation-tree\n",
      "  Downloading accumulation_tree-0.6.2.tar.gz (12 kB)\n",
      "Collecting pyudorandom\n",
      "  Downloading pyudorandom-1.0.0.tar.gz (1.6 kB)\n",
      "Building wheels for collected packages: contexttimer, ordered-set, genson, accumulation-tree, pyudorandom\n",
      "  Building wheel for contexttimer (setup.py) ... \u001b[?25l\u001b[?25hdone\n",
      "  Created wheel for contexttimer: filename=contexttimer-0.3.3-py3-none-any.whl size=5818 sha256=e79ad9c1024c3b80c422e692ed6e73dc356901c82d6a26aa197af71d44f28010\n",
      "  Stored in directory: /root/.cache/pip/wheels/03/8c/3b/8eba5888c3218e78f7fc4442198abb6db2bd1125c1bfcff183\n",
      "  Building wheel for ordered-set (setup.py) ... \u001b[?25l\u001b[?25hdone\n",
      "  Created wheel for ordered-set: filename=ordered_set-4.0.2-py2.py3-none-any.whl size=8219 sha256=df9f7efdadeb4657bc41fdc28b5df159c16ea42a3c3b7c10d10efde91a38221c\n",
      "  Stored in directory: /root/.cache/pip/wheels/73/2b/f6/26e9f84153c25050fe7c09e88f8e32a6be3c7034a38c418319\n",
      "  Building wheel for genson (setup.py) ... \u001b[?25l\u001b[?25hdone\n",
      "  Created wheel for genson: filename=genson-1.2.2-py2.py3-none-any.whl size=21291 sha256=b4e95bfdc76bba35b331d34c7442deacb3391bbab3c8376cb0b6a117fbc52b65\n",
      "  Stored in directory: /root/.cache/pip/wheels/2e/34/be/0194d05d18bc4695b5c4969178790d535bdd23eabdb9d3b1e3\n",
      "  Building wheel for accumulation-tree (setup.py) ... \u001b[?25l\u001b[?25hdone\n",
      "  Created wheel for accumulation-tree: filename=accumulation_tree-0.6.2-cp37-cp37m-linux_x86_64.whl size=234425 sha256=6c109737dd76c58ef0075f13e90112c0f872410d96648f892f21e4eec750157e\n",
      "  Stored in directory: /root/.cache/pip/wheels/42/32/0e/08020ae396bf92a3fd00971d0b81a6fb8f3e0681fd8912760d\n",
      "  Building wheel for pyudorandom (setup.py) ... \u001b[?25l\u001b[?25hdone\n",
      "  Created wheel for pyudorandom: filename=pyudorandom-1.0.0-py3-none-any.whl size=2221 sha256=6f74e6d8fda0e21b3f97deff9ad73068f7b640d2f8f03449d05a6b2df12b7a86\n",
      "  Stored in directory: /root/.cache/pip/wheels/9b/d0/30/b2916c3efec5b42e574e99d479c032cfa4f13bd0713de1d194\n",
      "Successfully built contexttimer ordered-set genson accumulation-tree pyudorandom\n",
      "Installing collected packages: tzdata, backports.zoneinfo, pyudorandom, pytz-deprecation-shim, pytz, ordered-set, numpy, contexttimer, backoff, accumulation-tree, tzlocal, tdigest, scipy, schema, pymorton, muid, getjson, deepdiff, pycoingecko, microconventions, genson, copulas, apscheduler, microprediction\n",
      "  Attempting uninstall: pytz\n",
      "    Found existing installation: pytz 2018.9\n",
      "    Uninstalling pytz-2018.9:\n",
      "      Successfully uninstalled pytz-2018.9\n",
      "  Attempting uninstall: numpy\n",
      "    Found existing installation: numpy 1.19.5\n",
      "    Uninstalling numpy-1.19.5:\n",
      "      Successfully uninstalled numpy-1.19.5\n",
      "  Attempting uninstall: tzlocal\n",
      "    Found existing installation: tzlocal 1.5.1\n",
      "    Uninstalling tzlocal-1.5.1:\n",
      "      Successfully uninstalled tzlocal-1.5.1\n",
      "  Attempting uninstall: scipy\n",
      "    Found existing installation: scipy 1.4.1\n",
      "    Uninstalling scipy-1.4.1:\n",
      "      Successfully uninstalled scipy-1.4.1\n",
      "\u001b[31mERROR: pip's dependency resolver does not currently take into account all the packages that are installed. This behaviour is the source of the following dependency conflicts.\n",
      "yellowbrick 1.3.post1 requires numpy<1.20,>=1.16.0, but you have numpy 1.21.5 which is incompatible.\n",
      "datascience 0.10.6 requires folium==0.2.1, but you have folium 0.8.3 which is incompatible.\n",
      "albumentations 0.1.12 requires imgaug<0.2.7,>=0.2.5, but you have imgaug 0.2.9 which is incompatible.\u001b[0m\n",
      "Successfully installed accumulation-tree-0.6.2 apscheduler-3.8.1 backoff-1.11.1 backports.zoneinfo-0.2.1 contexttimer-0.3.3 copulas-0.6.0 deepdiff-5.7.0 genson-1.2.2 getjson-1.0.0 microconventions-0.5.4 microprediction-0.18.8 muid-0.5.3 numpy-1.21.5 ordered-set-4.0.2 pycoingecko-2.2.0 pymorton-1.0.5 pytz-2021.3 pytz-deprecation-shim-0.1.0.post0 pyudorandom-1.0.0 schema-0.7.5 scipy-1.7.3 tdigest-0.5.2.2 tzdata-2021.5 tzlocal-4.1\n"
     ]
    },
    {
     "data": {
      "application/vnd.colab-display-data+json": {
       "pip_warning": {
        "packages": [
         "numpy",
         "pytz"
        ]
       }
      }
     },
     "metadata": {},
     "output_type": "display_data"
    }
   ],
   "source": [
    "!pip install microprediction"
   ]
  },
  {
   "cell_type": "markdown",
   "metadata": {
    "id": "p2bh6KxE88So"
   },
   "source": [
    "### anticipy hello world\n",
    "See https://www.microprediction.com/blog/popular-timeseries-packages for more packages"
   ]
  },
  {
   "cell_type": "code",
   "execution_count": 10,
   "metadata": {
    "id": "DUhhIeHhOutZ"
   },
   "outputs": [],
   "source": [
    "from microprediction import MicroReader\n",
    "mr = MicroReader()\n",
    "YS = mr.get_lagged_values(name='btc_raw.json')[:400]"
   ]
  },
  {
   "cell_type": "code",
   "execution_count": 11,
   "metadata": {
    "id": "ODDpGjVDPDwS"
   },
   "outputs": [],
   "source": [
    "import pandas as pd \n",
    "import datetime \n",
    "import numpy as np\n",
    "from anticipy import forecast\n",
    "\n",
    "\n",
    "def anticipy_next(ys:[float])->float:\n",
    "   \"\"\" Predict the next point in a series \"\"\"\n",
    "\n",
    "   df = pd.DataFrame({'y': ys,\n",
    "                   'date':pd.date_range(start='2021-01-01', periods=len(ys), freq='D')})\n",
    "   df_forecast = forecast.run_forecast(df, extrapolate_years=1)\n",
    "   return (df_forecast.q80.tail(1) + df_forecast.q20.tail(1)) / 2\n",
    "   \n",
    "def run(ys):\n",
    "  \"\"\" Slow, see river package or others if you don't like \"\"\"\n",
    "  burnin = 10\n",
    "  y_hats = list()\n",
    "  for t in range(len(ys)):\n",
    "     if t>burnin:\n",
    "        y_hat = anticipy_next(ys[:t])\n",
    "     elif t>=1:\n",
    "        y_hat = ys[t-1]\n",
    "     else:\n",
    "        y_hat = 0 \n",
    "     y_hats.append(y_hat)\n",
    "  return y_hats "
   ]
  },
  {
   "cell_type": "code",
   "execution_count": 12,
   "metadata": {
    "id": "XmFAcUsWSA0I"
   },
   "outputs": [],
   "source": [
    "XS = run(YS)"
   ]
  },
  {
   "cell_type": "code",
   "execution_count": 15,
   "metadata": {
    "colab": {
     "base_uri": "https://localhost:8080/",
     "height": 282
    },
    "id": "UsQalSXqS6a4",
    "outputId": "13defa85-9f7b-4e94-c353-6d934e23cfd0"
   },
   "outputs": [
    {
     "data": {
      "text/plain": [
       "[<matplotlib.lines.Line2D at 0x7fb442f23b10>]"
      ]
     },
     "execution_count": 15,
     "metadata": {},
     "output_type": "execute_result"
    },
    {
     "data": {
      "image/png": "[encoded data removed]",
      "text/plain": [
       "<Figure size 432x288 with 1 Axes>"
      ]
     },
     "metadata": {
      "needs_background": "light"
     },
     "output_type": "display_data"
    }
   ],
   "source": [
    "import matplotlib.pyplot as plt\n",
    "plt.plot(YS[200:400],'*b')\n",
    "plt.plot(XS[200:400],'g')"
   ]
  },
  {
   "cell_type": "code",
   "execution_count": null,
   "metadata": {
    "id": "0YwZDfCDpAMB"
   },
   "outputs": [],
   "source": []
  }
 ],
 "metadata": {
  "colab": {
   "name": "fbprophet_hello.ipynb",
   "provenance": []
  },
  "kernelspec": {
   "display_name": "Python 3 (ipykernel)",
   "language": "python",
   "name": "python3"
  },
  "language_info": {
   "codemirror_mode": {
    "name": "ipython",
    "version": 3
   },
   "file_extension": ".py",
   "mimetype": "text/x-python",
   "name": "python",
   "nbconvert_exporter": "python",
   "pygments_lexer": "ipython3",
   "version": "3.9.7"
  }
 },
 "nbformat": 4,
 "nbformat_minor": 1
}
