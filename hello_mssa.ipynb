{
  "cells": [
    {
      "cell_type": "code",
      "execution_count": 1,
      "id": "796262ce",
      "metadata": {
        "id": "796262ce"
      },
      "outputs": [],
      "source": [
        "import logging, sys\n",
        "logging.disable(sys.maxsize)"
      ]
    },
    {
      "cell_type": "code",
      "execution_count": null,
      "id": "712566c3",
      "metadata": {
        "id": "712566c3"
      },
      "outputs": [],
      "source": [
        "!pip install microprediction"
      ]
    },
    {
      "cell_type": "code",
      "source": [
        "!pip install git+https://github.com/AbdullahO/mSSA.git"
      ],
      "metadata": {
        "id": "YfQ8qPFSnmpN"
      },
      "id": "YfQ8qPFSnmpN",
      "execution_count": null,
      "outputs": []
    },
    {
      "cell_type": "markdown",
      "id": "c840d10a",
      "metadata": {
        "id": "c840d10a"
      },
      "source": [
        "## Hello world example\n",
        "\n",
        "See https://www.microprediction.com/blog/popular-timeseries-packages for more packag"
      ]
    },
    {
      "cell_type": "code",
      "execution_count": 2,
      "id": "1651c2a7",
      "metadata": {
        "id": "1651c2a7"
      },
      "outputs": [],
      "source": [
        "from microprediction import MicroReader\n",
        "mr = MicroReader()\n",
        "YS = mr.get_lagged_values(name='emojitracker-twitter-face_with_tears_of_joy.json')[:50]"
      ]
    },
    {
      "cell_type": "code",
      "execution_count": 3,
      "id": "5fff59b1",
      "metadata": {
        "id": "5fff59b1"
      },
      "outputs": [],
      "source": [
        "from mssa.mssa import mSSA\n",
        "import pandas as pd \n",
        "import datetime \n",
        "import numpy as np \n",
        "import warnings\n",
        "warnings.filterwarnings('ignore')\n",
        "\n",
        "def run(ys):\n",
        "    burnin = 100\n",
        "\n",
        "    def next_value(ys):\n",
        "        model = mSSA()\n",
        "        model.update_model(ys) \n",
        "        y_hat = model.predict(1)\n",
        "        return y_hat\n",
        "\n",
        "    y_hats = list()\n",
        "    for t in range(len(ys)):\n",
        "        if t > burnin:\n",
        "            y_hat = next_value(ys[:t])\n",
        "        elif t >= 1:\n",
        "            y_hat = ys[t - 1]\n",
        "        else:\n",
        "            y_hat = 0\n",
        "        y_hats.append(y_hat)\n",
        "    return y_hats\n",
        "XS = run(YS)"
      ]
    },
    {
      "cell_type": "code",
      "execution_count": 4,
      "id": "577bc8da",
      "metadata": {
        "colab": {
          "base_uri": "https://localhost:8080/",
          "height": 282
        },
        "id": "577bc8da",
        "outputId": "7cd60cea-49a9-4fb7-ede9-833e189eb368"
      },
      "outputs": [
        {
          "output_type": "execute_result",
          "data": {
            "text/plain": [
              "[<matplotlib.lines.Line2D at 0x7f09ebda9590>]"
            ]
          },
          "metadata": {},
          "execution_count": 4
        },
        {
          "output_type": "display_data",
          "data": {
            "image/png": "[encoded data removed]",
            "text/plain": [
              "<Figure size 432x288 with 1 Axes>"
            ]
          },
          "metadata": {
            "needs_background": "light"
          }
        }
      ],
      "source": [
        "import matplotlib.pyplot as plt\n",
        "plt.plot(YS[25:],'*b')\n",
        "plt.plot(XS[25:],'g')"
      ]
    },
    {
      "cell_type": "code",
      "execution_count": null,
      "id": "03cd9c33",
      "metadata": {
        "id": "03cd9c33"
      },
      "outputs": [],
      "source": [
        ""
      ]
    }
  ],
  "metadata": {
    "kernelspec": {
      "display_name": "Python 3 (ipykernel)",
      "language": "python",
      "name": "python3"
    },
    "language_info": {
      "codemirror_mode": {
        "name": "ipython",
        "version": 3
      },
      "file_extension": ".py",
      "mimetype": "text/x-python",
      "name": "python",
      "nbconvert_exporter": "python",
      "pygments_lexer": "ipython3",
      "version": "3.9.7"
    },
    "colab": {
      "name": "hello_mssa.ipynb",
      "provenance": []
    }
  },
  "nbformat": 4,
  "nbformat_minor": 5
}