{
  "nbformat": 4,
  "nbformat_minor": 0,
  "metadata": {
    "colab": {
      "name": "install_timemachines.ipynb",
      "provenance": [],
      "authorship_tag": "ABX9TyOAae7KQK9GMLSLwq4TtMIj",
      "include_colab_link": true
    },
    "kernelspec": {
      "name": "python3",
      "display_name": "Python 3"
    },
    "language_info": {
      "name": "python"
    }
  },
  "cells": [
    {
      "cell_type": "markdown",
      "metadata": {
        "id": "view-in-github",
        "colab_type": "text"
      },
      "source": [
        "<a href=\"https://colab.research.google.com/github/microprediction/timeseries-notebooks/blob/main/install_timemachines.ipynb\" target=\"_parent\"><img src=\"https://colab.research.google.com/assets/colab-badge.svg\" alt=\"Open In Colab\"/></a>"
      ]
    },
    {
      "cell_type": "code",
      "execution_count": null,
      "metadata": {
        "id": "k5bQXY7F37nU"
      },
      "outputs": [],
      "source": [
        "!pip install timemachines"
      ]
    },
    {
      "cell_type": "code",
      "source": [
        "from timemachines.skaters.simple.movingaverage import empirical_last_value"
      ],
      "metadata": {
        "id": "IOyIFj7e8MNs"
      },
      "execution_count": 3,
      "outputs": []
    }
  ]
}