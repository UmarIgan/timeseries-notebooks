{
  "nbformat": 4,
  "nbformat_minor": 0,
  "metadata": {
    "colab": {
      "name": "orbit_hello.ipynb",
      "provenance": [],
      "include_colab_link": true
    },
    "kernelspec": {
      "name": "python3",
      "display_name": "Python 3"
    }
  },
  "cells": [
    {
      "cell_type": "markdown",
      "metadata": {
        "id": "view-in-github",
        "colab_type": "text"
      },
      "source": [
        "<a href=\"https://colab.research.google.com/github/edwinnglabs/timeseries-notebooks/blob/main/orbit_hello.ipynb\" target=\"_parent\"><img src=\"https://colab.research.google.com/assets/colab-badge.svg\" alt=\"Open In Colab\"/></a>"
      ]
    },
    {
      "cell_type": "code",
      "metadata": {
        "id": "pxPf4jy3Omj_"
      },
      "source": [
        "!pip install fbprophet\n",
        "import logging, sys\n",
        "logging.disable(sys.maxsize)"
      ],
      "execution_count": null,
      "outputs": []
    },
    {
      "cell_type": "code",
      "metadata": {
        "id": "-KgmO47lOr3S"
      },
      "source": [
        "!pip install microprediction"
      ],
      "execution_count": null,
      "outputs": []
    },
    {
      "cell_type": "markdown",
      "metadata": {
        "id": "p2bh6KxE88So"
      },
      "source": [
        "### fbprophet hello world\n",
        "See https://www.microprediction.com/blog/popular-timeseries-packages for more packages"
      ]
    },
    {
      "cell_type": "code",
      "metadata": {
        "id": "DUhhIeHhOutZ"
      },
      "source": [
        "from microprediction import MicroReader\n",
        "mr = MicroReader()\n",
        "YS = mr.get_lagged_values(name='emojitracker-twitter-face_with_medical_mask.json')[:20]"
      ],
      "execution_count": null,
      "outputs": []
    },
    {
      "cell_type": "code",
      "metadata": {
        "id": "ODDpGjVDPDwS"
      },
      "source": [
        "from fbprophet import Prophet\n",
        "import pandas as pd \n",
        "import datetime \n",
        "def prophet_next(ys:[float])->float:\n",
        "   \"\"\" Predict the next point in a series \"\"\"\n",
        "   m = Prophet()\n",
        "   df = pd.DataFrame(columns=['y'],data=ys)\n",
        "   df['ds'] = pd.date_range(start='2021-01-01', periods=len(ys), freq='D')\n",
        "   m.fit(df)\n",
        "   future = m.make_future_dataframe(periods=1)\n",
        "   forecast = m.predict(future)\n",
        "   return forecast['yhat'].values[0]\n",
        "   \n",
        "def run(ys):\n",
        "  \"\"\" Slow, see river package or others if you don't like \"\"\"\n",
        "  burnin = 10\n",
        "  y_hats = list()\n",
        "  for t in range(len(ys)):\n",
        "     if t>burnin:\n",
        "        y_hat = prophet_next(ys[:t])\n",
        "     elif t>=1:\n",
        "        y_hat = ys[t-1]\n",
        "     else:\n",
        "        y_hat = 0 \n",
        "     y_hats.append(y_hat)\n",
        "  return y_hats "
      ],
      "execution_count": null,
      "outputs": []
    },
    {
      "cell_type": "code",
      "metadata": {
        "id": "XmFAcUsWSA0I"
      },
      "source": [
        "XS = run(YS)"
      ],
      "execution_count": null,
      "outputs": []
    },
    {
      "cell_type": "code",
      "metadata": {
        "colab": {
          "base_uri": "https://localhost:8080/",
          "height": 281
        },
        "id": "UsQalSXqS6a4",
        "outputId": "4f5b7e39-52ad-4ecd-8f63-6bac5f4b1c46"
      },
      "source": [
        "import matplotlib.pyplot as plt\n",
        "plt.plot(YS[:25],'*b')\n",
        "plt.plot(XS[:25],'g')"
      ],
      "execution_count": null,
      "outputs": [
        {
          "output_type": "execute_result",
          "data": {
            "text/plain": [
              "[<matplotlib.lines.Line2D at 0x7fbf1b64e5f8>]"
            ]
          },
          "metadata": {
            "tags": []
          },
          "execution_count": 20
        },
        {
          "output_type": "display_data",
          "data": {
            "image/png": "[encoded data removed]",
            "text/plain": [
              "<Figure size 432x288 with 1 Axes>"
            ]
          },
          "metadata": {
            "tags": [],
            "needs_background": "light"
          }
        }
      ]
    }
  ]
}