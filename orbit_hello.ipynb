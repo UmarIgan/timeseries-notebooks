{
  "nbformat": 4,
  "nbformat_minor": 0,
  "metadata": {
    "colab": {
      "name": "orbit_hello.ipynb",
      "provenance": [],
      "collapsed_sections": [],
      "include_colab_link": true
    },
    "kernelspec": {
      "name": "python3",
      "display_name": "Python 3"
    }
  },
  "cells": [
    {
      "cell_type": "markdown",
      "metadata": {
        "id": "view-in-github",
        "colab_type": "text"
      },
      "source": [
        "<a href=\"https://colab.research.google.com/github/edwinnglabs/timeseries-notebooks/blob/main/orbit_hello.ipynb\" target=\"_parent\"><img src=\"https://colab.research.google.com/assets/colab-badge.svg\" alt=\"Open In Colab\"/></a>"
      ]
    },
    {
      "cell_type": "code",
      "metadata": {
        "id": "pxPf4jy3Omj_"
      },
      "source": [
        "!pip install orbit-ml\n",
        "import logging, sys\n",
        "logging.disable(sys.maxsize)"
      ],
      "execution_count": null,
      "outputs": []
    },
    {
      "cell_type": "code",
      "metadata": {
        "id": "-KgmO47lOr3S"
      },
      "source": [
        "!pip install microprediction"
      ],
      "execution_count": null,
      "outputs": []
    },
    {
      "cell_type": "markdown",
      "metadata": {
        "id": "p2bh6KxE88So"
      },
      "source": [
        "### orbit-ml hello world\n",
        "See https://www.microprediction.com/blog/popular-timeseries-packages for more packages"
      ]
    },
    {
      "cell_type": "code",
      "metadata": {
        "id": "DUhhIeHhOutZ"
      },
      "source": [
        "from microprediction import MicroReader\n",
        "mr = MicroReader()\n",
        "YS = mr.get_lagged_values(name='emojitracker-twitter-sparkles.json')[:20]"
      ],
      "execution_count": 5,
      "outputs": []
    },
    {
      "cell_type": "code",
      "source": [
        "import orbit\n",
        "print(orbit.__version__)"
      ],
      "metadata": {
        "colab": {
          "base_uri": "https://localhost:8080/"
        },
        "id": "9umgvxRRi8LQ",
        "outputId": "1fceceb9-7910-468e-935a-01e311c358da"
      },
      "execution_count": 7,
      "outputs": [
        {
          "output_type": "stream",
          "name": "stdout",
          "text": [
            "1.1.0\n"
          ]
        }
      ]
    },
    {
      "cell_type": "code",
      "metadata": {
        "id": "ODDpGjVDPDwS"
      },
      "source": [
        "from orbit.models import LGT\n",
        "import pandas as pd \n",
        "import numpy as np\n",
        "import datetime \n",
        "\n",
        "def orbit_lgt_next(ys:[float])->float:\n",
        "  \"\"\" Predict the next point in a series \"\"\"\n",
        "\n",
        "  df = pd.DataFrame(columns=['y'],data=ys)\n",
        "  # log transform is recommended usually\n",
        "  df['y'] = np.log1p(df['y'])\n",
        "\n",
        "  df['ds'] = pd.date_range(start='2021-01-01', periods=len(ys), freq='D')\n",
        "  lgt = LGT(response_col='y', date_col='ds', estimator='stan-map', seed=2022)\n",
        "  lgt.fit(df)\n",
        "\n",
        "  df = pd.DataFrame(columns=['y'],data=YS)\n",
        "  df['ds'] = pd.date_range(start='2021-01-01', periods=len(YS), freq='D')\n",
        "  future_df = df.loc[(df.shape[0] - 1):, ['ds']].reset_index(drop=True)\n",
        "  future_df['ds'] = future_df['ds'] + pd.Timedelta(1, unit=\"D\")\n",
        "    \n",
        "  forecast_df = lgt.predict(future)\n",
        "  prediction = np.expm1(forecast_df['prediction'].values[0])\n",
        "  prediction = np.clip(prediction, a_min=0, a_max=np.inf)\n",
        "\n",
        "  return prediction\n",
        "   \n",
        "def run(ys):\n",
        "  \"\"\" Slow, see river package or others if you don't like \"\"\"\n",
        "  burnin = 10\n",
        "  y_hats = list()\n",
        "  for t in range(len(ys)):\n",
        "     if t>burnin:\n",
        "        y_hat = orbit_lgt_next(ys[:t])\n",
        "     elif t>=1:\n",
        "        y_hat = ys[t-1]\n",
        "     else:\n",
        "        y_hat = 0 \n",
        "     y_hats.append(y_hat)\n",
        "  return y_hats "
      ],
      "execution_count": 101,
      "outputs": []
    },
    {
      "cell_type": "code",
      "metadata": {
        "id": "XmFAcUsWSA0I"
      },
      "source": [
        "XS = run(YS)"
      ],
      "execution_count": 102,
      "outputs": []
    },
    {
      "cell_type": "code",
      "metadata": {
        "colab": {
          "base_uri": "https://localhost:8080/",
          "height": 282
        },
        "id": "UsQalSXqS6a4",
        "outputId": "056bad5a-3ad5-45b3-bc0f-f7bdcd33a642"
      },
      "source": [
        "import matplotlib.pyplot as plt\n",
        "plt.plot(YS[:25],'*b')\n",
        "plt.plot(XS[:25],'g')"
      ],
      "execution_count": 103,
      "outputs": [
        {
          "output_type": "execute_result",
          "data": {
            "text/plain": [
              "[<matplotlib.lines.Line2D at 0x7ff0d9029050>]"
            ]
          },
          "metadata": {},
          "execution_count": 103
        },
        {
          "output_type": "display_data",
          "data": {
            "image/png": "[encoded data removed]",
            "text/plain": [
              "<Figure size 432x288 with 1 Axes>"
            ]
          },
          "metadata": {
            "needs_background": "light"
          }
        }
      ]
    }
  ]
}